#Importar la libreria matemática 
import numpy as np
